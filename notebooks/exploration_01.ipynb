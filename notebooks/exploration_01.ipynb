{
 "cells": [
  {
   "cell_type": "code",
   "execution_count": 149,
   "id": "448a401f",
   "metadata": {},
   "outputs": [],
   "source": [
    "# Load the Netflix dataset and display basic statistics and sample rows for initial exploration\n",
    "import pandas as pd\n",
    "netflix_data = pd.read_csv('../data/netflix_titles.csv')\n",
    "# print(netflix_data.describe()) \n",
    "# print(netflix_data.head())"
   ]
  },
  {
   "cell_type": "markdown",
   "id": "174235f5",
   "metadata": {},
   "source": [
    "display is better than print in this case for a good presentation , it is better if we want to display some data"
   ]
  },
  {
   "cell_type": "code",
   "execution_count": 150,
   "id": "ae9959cb",
   "metadata": {},
   "outputs": [
    {
     "data": {
      "text/html": [
       "<div>\n",
       "<style scoped>\n",
       "    .dataframe tbody tr th:only-of-type {\n",
       "        vertical-align: middle;\n",
       "    }\n",
       "\n",
       "    .dataframe tbody tr th {\n",
       "        vertical-align: top;\n",
       "    }\n",
       "\n",
       "    .dataframe thead th {\n",
       "        text-align: right;\n",
       "    }\n",
       "</style>\n",
       "<table border=\"1\" class=\"dataframe\">\n",
       "  <thead>\n",
       "    <tr style=\"text-align: right;\">\n",
       "      <th></th>\n",
       "      <th>show_id</th>\n",
       "      <th>type</th>\n",
       "      <th>title</th>\n",
       "      <th>director</th>\n",
       "      <th>cast</th>\n",
       "      <th>country</th>\n",
       "      <th>date_added</th>\n",
       "      <th>release_year</th>\n",
       "      <th>rating</th>\n",
       "      <th>duration</th>\n",
       "      <th>listed_in</th>\n",
       "      <th>description</th>\n",
       "    </tr>\n",
       "  </thead>\n",
       "  <tbody>\n",
       "    <tr>\n",
       "      <th>0</th>\n",
       "      <td>s1</td>\n",
       "      <td>Movie</td>\n",
       "      <td>Dick Johnson Is Dead</td>\n",
       "      <td>Kirsten Johnson</td>\n",
       "      <td>NaN</td>\n",
       "      <td>United States</td>\n",
       "      <td>September 25, 2021</td>\n",
       "      <td>2020</td>\n",
       "      <td>PG-13</td>\n",
       "      <td>90 min</td>\n",
       "      <td>Documentaries</td>\n",
       "      <td>As her father nears the end of his life, filmm...</td>\n",
       "    </tr>\n",
       "    <tr>\n",
       "      <th>1</th>\n",
       "      <td>s2</td>\n",
       "      <td>TV Show</td>\n",
       "      <td>Blood &amp; Water</td>\n",
       "      <td>NaN</td>\n",
       "      <td>Ama Qamata, Khosi Ngema, Gail Mabalane, Thaban...</td>\n",
       "      <td>South Africa</td>\n",
       "      <td>September 24, 2021</td>\n",
       "      <td>2021</td>\n",
       "      <td>TV-MA</td>\n",
       "      <td>2 Seasons</td>\n",
       "      <td>International TV Shows, TV Dramas, TV Mysteries</td>\n",
       "      <td>After crossing paths at a party, a Cape Town t...</td>\n",
       "    </tr>\n",
       "    <tr>\n",
       "      <th>2</th>\n",
       "      <td>s3</td>\n",
       "      <td>TV Show</td>\n",
       "      <td>Ganglands</td>\n",
       "      <td>Julien Leclercq</td>\n",
       "      <td>Sami Bouajila, Tracy Gotoas, Samuel Jouy, Nabi...</td>\n",
       "      <td>NaN</td>\n",
       "      <td>September 24, 2021</td>\n",
       "      <td>2021</td>\n",
       "      <td>TV-MA</td>\n",
       "      <td>1 Season</td>\n",
       "      <td>Crime TV Shows, International TV Shows, TV Act...</td>\n",
       "      <td>To protect his family from a powerful drug lor...</td>\n",
       "    </tr>\n",
       "    <tr>\n",
       "      <th>3</th>\n",
       "      <td>s4</td>\n",
       "      <td>TV Show</td>\n",
       "      <td>Jailbirds New Orleans</td>\n",
       "      <td>NaN</td>\n",
       "      <td>NaN</td>\n",
       "      <td>NaN</td>\n",
       "      <td>September 24, 2021</td>\n",
       "      <td>2021</td>\n",
       "      <td>TV-MA</td>\n",
       "      <td>1 Season</td>\n",
       "      <td>Docuseries, Reality TV</td>\n",
       "      <td>Feuds, flirtations and toilet talk go down amo...</td>\n",
       "    </tr>\n",
       "    <tr>\n",
       "      <th>4</th>\n",
       "      <td>s5</td>\n",
       "      <td>TV Show</td>\n",
       "      <td>Kota Factory</td>\n",
       "      <td>NaN</td>\n",
       "      <td>Mayur More, Jitendra Kumar, Ranjan Raj, Alam K...</td>\n",
       "      <td>India</td>\n",
       "      <td>September 24, 2021</td>\n",
       "      <td>2021</td>\n",
       "      <td>TV-MA</td>\n",
       "      <td>2 Seasons</td>\n",
       "      <td>International TV Shows, Romantic TV Shows, TV ...</td>\n",
       "      <td>In a city of coaching centers known to train I...</td>\n",
       "    </tr>\n",
       "  </tbody>\n",
       "</table>\n",
       "</div>"
      ],
      "text/plain": [
       "  show_id     type                  title         director  \\\n",
       "0      s1    Movie   Dick Johnson Is Dead  Kirsten Johnson   \n",
       "1      s2  TV Show          Blood & Water              NaN   \n",
       "2      s3  TV Show              Ganglands  Julien Leclercq   \n",
       "3      s4  TV Show  Jailbirds New Orleans              NaN   \n",
       "4      s5  TV Show           Kota Factory              NaN   \n",
       "\n",
       "                                                cast        country  \\\n",
       "0                                                NaN  United States   \n",
       "1  Ama Qamata, Khosi Ngema, Gail Mabalane, Thaban...   South Africa   \n",
       "2  Sami Bouajila, Tracy Gotoas, Samuel Jouy, Nabi...            NaN   \n",
       "3                                                NaN            NaN   \n",
       "4  Mayur More, Jitendra Kumar, Ranjan Raj, Alam K...          India   \n",
       "\n",
       "           date_added  release_year rating   duration  \\\n",
       "0  September 25, 2021          2020  PG-13     90 min   \n",
       "1  September 24, 2021          2021  TV-MA  2 Seasons   \n",
       "2  September 24, 2021          2021  TV-MA   1 Season   \n",
       "3  September 24, 2021          2021  TV-MA   1 Season   \n",
       "4  September 24, 2021          2021  TV-MA  2 Seasons   \n",
       "\n",
       "                                           listed_in  \\\n",
       "0                                      Documentaries   \n",
       "1    International TV Shows, TV Dramas, TV Mysteries   \n",
       "2  Crime TV Shows, International TV Shows, TV Act...   \n",
       "3                             Docuseries, Reality TV   \n",
       "4  International TV Shows, Romantic TV Shows, TV ...   \n",
       "\n",
       "                                         description  \n",
       "0  As her father nears the end of his life, filmm...  \n",
       "1  After crossing paths at a party, a Cape Town t...  \n",
       "2  To protect his family from a powerful drug lor...  \n",
       "3  Feuds, flirtations and toilet talk go down amo...  \n",
       "4  In a city of coaching centers known to train I...  "
      ]
     },
     "metadata": {},
     "output_type": "display_data"
    },
    {
     "name": "stdout",
     "output_type": "stream",
     "text": [
      "****************************************************************************************************\n",
      "\n",
      "\n",
      "<class 'pandas.core.frame.DataFrame'>\n",
      "RangeIndex: 8807 entries, 0 to 8806\n",
      "Data columns (total 12 columns):\n",
      " #   Column        Non-Null Count  Dtype \n",
      "---  ------        --------------  ----- \n",
      " 0   show_id       8807 non-null   object\n",
      " 1   type          8807 non-null   object\n",
      " 2   title         8807 non-null   object\n",
      " 3   director      6173 non-null   object\n",
      " 4   cast          7982 non-null   object\n",
      " 5   country       7976 non-null   object\n",
      " 6   date_added    8797 non-null   object\n",
      " 7   release_year  8807 non-null   int64 \n",
      " 8   rating        8803 non-null   object\n",
      " 9   duration      8804 non-null   object\n",
      " 10  listed_in     8807 non-null   object\n",
      " 11  description   8807 non-null   object\n",
      "dtypes: int64(1), object(11)\n",
      "memory usage: 825.8+ KB\n"
     ]
    },
    {
     "data": {
      "text/plain": [
       "None"
      ]
     },
     "metadata": {},
     "output_type": "display_data"
    },
    {
     "name": "stdout",
     "output_type": "stream",
     "text": [
      "****************************************************************************************************\n",
      "\n",
      "\n"
     ]
    },
    {
     "data": {
      "text/html": [
       "<div>\n",
       "<style scoped>\n",
       "    .dataframe tbody tr th:only-of-type {\n",
       "        vertical-align: middle;\n",
       "    }\n",
       "\n",
       "    .dataframe tbody tr th {\n",
       "        vertical-align: top;\n",
       "    }\n",
       "\n",
       "    .dataframe thead th {\n",
       "        text-align: right;\n",
       "    }\n",
       "</style>\n",
       "<table border=\"1\" class=\"dataframe\">\n",
       "  <thead>\n",
       "    <tr style=\"text-align: right;\">\n",
       "      <th></th>\n",
       "      <th>release_year</th>\n",
       "    </tr>\n",
       "  </thead>\n",
       "  <tbody>\n",
       "    <tr>\n",
       "      <th>count</th>\n",
       "      <td>8807.000000</td>\n",
       "    </tr>\n",
       "    <tr>\n",
       "      <th>mean</th>\n",
       "      <td>2014.180198</td>\n",
       "    </tr>\n",
       "    <tr>\n",
       "      <th>std</th>\n",
       "      <td>8.819312</td>\n",
       "    </tr>\n",
       "    <tr>\n",
       "      <th>min</th>\n",
       "      <td>1925.000000</td>\n",
       "    </tr>\n",
       "    <tr>\n",
       "      <th>25%</th>\n",
       "      <td>2013.000000</td>\n",
       "    </tr>\n",
       "    <tr>\n",
       "      <th>50%</th>\n",
       "      <td>2017.000000</td>\n",
       "    </tr>\n",
       "    <tr>\n",
       "      <th>75%</th>\n",
       "      <td>2019.000000</td>\n",
       "    </tr>\n",
       "    <tr>\n",
       "      <th>max</th>\n",
       "      <td>2021.000000</td>\n",
       "    </tr>\n",
       "  </tbody>\n",
       "</table>\n",
       "</div>"
      ],
      "text/plain": [
       "       release_year\n",
       "count   8807.000000\n",
       "mean    2014.180198\n",
       "std        8.819312\n",
       "min     1925.000000\n",
       "25%     2013.000000\n",
       "50%     2017.000000\n",
       "75%     2019.000000\n",
       "max     2021.000000"
      ]
     },
     "metadata": {},
     "output_type": "display_data"
    },
    {
     "name": "stdout",
     "output_type": "stream",
     "text": [
      "****************************************************************************************************\n",
      "\n",
      "\n"
     ]
    },
    {
     "data": {
      "text/plain": [
       "(8807, 12)"
      ]
     },
     "metadata": {},
     "output_type": "display_data"
    }
   ],
   "source": [
    "# Using display instead of print provides a cleaner and more readable presentation of DataFrame outputs in Jupyter notebooks.\n",
    "display(netflix_data.head(5))\n",
    "print(\"*\"*100,end=\"\\n\\n\\n\")\n",
    "display(netflix_data.info()) # with info , it is possible to see directly the number of nan value\n",
    "print(\"*\"*100,end=\"\\n\\n\\n\")\n",
    "display(netflix_data.describe()) \n",
    "print(\"*\"*100,end=\"\\n\\n\\n\")\n",
    "\n",
    "# display(netflix_data.tail(5))  # to display just the 5 last element\n",
    "# print(\"*\"*100,end=\"\\n\\n\\n\")\n",
    "# display(netflix_data.sample(5)) # to display just a sample of 5\n",
    "# print(\"*\"*100)\n",
    "\n",
    "display(netflix_data.shape)\n"
   ]
  },
  {
   "cell_type": "code",
   "execution_count": 151,
   "id": "ec414eb9",
   "metadata": {},
   "outputs": [
    {
     "data": {
      "text/plain": [
       "director        2634\n",
       "country          831\n",
       "cast             825\n",
       "date_added        10\n",
       "rating             4\n",
       "duration           3\n",
       "show_id            0\n",
       "type               0\n",
       "title              0\n",
       "release_year       0\n",
       "listed_in          0\n",
       "description        0\n",
       "dtype: int64"
      ]
     },
     "metadata": {},
     "output_type": "display_data"
    }
   ],
   "source": [
    "\"\"\"Check missing values in each column of the netflix_data DataFrame\"\"\"\n",
    "\n",
    "display(netflix_data.isnull().sum().sort_values(ascending=False))\n",
    "\n"
   ]
  },
  {
   "cell_type": "code",
   "execution_count": 152,
   "id": "4b17b45f",
   "metadata": {},
   "outputs": [
    {
     "data": {
      "text/plain": [
       "np.int64(0)"
      ]
     },
     "execution_count": 152,
     "metadata": {},
     "output_type": "execute_result"
    }
   ],
   "source": [
    "netflix_data.duplicated().sum() # no duplicated value"
   ]
  },
  {
   "cell_type": "code",
   "execution_count": 153,
   "id": "71c8712b",
   "metadata": {},
   "outputs": [],
   "source": [
    "# #Check There is an error there\n",
    "# from sklearn.impute import SimpleImputer\n",
    "# import numpy as np\n",
    "# # Impute missing values in the 'country' column with the most frequent value\n",
    "# imputer = SimpleImputer(strategy='most_frequent')\n",
    "# netflix_data['country'] = imputer.fit_transform(netflix_data[['country']])\n",
    "# display(netflix_data.isnull().sum().sort_values(ascending=False))\n"
   ]
  },
  {
   "cell_type": "code",
   "execution_count": 154,
   "id": "0394259f",
   "metadata": {},
   "outputs": [
    {
     "name": "stdout",
     "output_type": "stream",
     "text": [
      "Value counts for 'type':\n"
     ]
    },
    {
     "data": {
      "text/plain": [
       "type\n",
       "Movie      6131\n",
       "TV Show    2676\n",
       "Name: count, dtype: int64"
      ]
     },
     "metadata": {},
     "output_type": "display_data"
    },
    {
     "name": "stdout",
     "output_type": "stream",
     "text": [
      "----------------------------------------\n",
      "Value counts for 'title':\n"
     ]
    },
    {
     "data": {
      "text/plain": [
       "title\n",
       "Dick Johnson Is Dead     1\n",
       "Blood & Water            1\n",
       "Ganglands                1\n",
       "Jailbirds New Orleans    1\n",
       "Kota Factory             1\n",
       "Name: count, dtype: int64"
      ]
     },
     "metadata": {},
     "output_type": "display_data"
    },
    {
     "name": "stdout",
     "output_type": "stream",
     "text": [
      "----------------------------------------\n",
      "Value counts for 'director':\n"
     ]
    },
    {
     "data": {
      "text/plain": [
       "director\n",
       "Rajiv Chilaka             19\n",
       "Raúl Campos, Jan Suter    18\n",
       "Marcus Raboy              16\n",
       "Suhas Kadav               16\n",
       "Jay Karas                 14\n",
       "Name: count, dtype: int64"
      ]
     },
     "metadata": {},
     "output_type": "display_data"
    },
    {
     "name": "stdout",
     "output_type": "stream",
     "text": [
      "----------------------------------------\n",
      "Value counts for 'cast':\n"
     ]
    },
    {
     "data": {
      "text/plain": [
       "cast\n",
       "David Attenborough                                                                                                        19\n",
       "Vatsal Dubey, Julie Tejwani, Rupa Bhimani, Jigna Bhardwaj, Rajesh Kava, Mousam, Swapnil                                   14\n",
       "Samuel West                                                                                                               10\n",
       "Jeff Dunham                                                                                                                7\n",
       "Michela Luci, Jamie Watson, Eric Peterson, Anna Claire Bartlam, Nicolas Aqui, Cory Doran, Julie Lemieux, Derek McGrath     6\n",
       "Name: count, dtype: int64"
      ]
     },
     "metadata": {},
     "output_type": "display_data"
    },
    {
     "name": "stdout",
     "output_type": "stream",
     "text": [
      "----------------------------------------\n",
      "Value counts for 'country':\n"
     ]
    },
    {
     "data": {
      "text/plain": [
       "country\n",
       "United States     2818\n",
       "India              972\n",
       "United Kingdom     419\n",
       "Japan              245\n",
       "South Korea        199\n",
       "Name: count, dtype: int64"
      ]
     },
     "metadata": {},
     "output_type": "display_data"
    },
    {
     "name": "stdout",
     "output_type": "stream",
     "text": [
      "----------------------------------------\n",
      "Value counts for 'date_added':\n"
     ]
    },
    {
     "data": {
      "text/plain": [
       "date_added\n",
       "January 1, 2020      109\n",
       "November 1, 2019      89\n",
       "March 1, 2018         75\n",
       "December 31, 2019     74\n",
       "October 1, 2018       71\n",
       "Name: count, dtype: int64"
      ]
     },
     "metadata": {},
     "output_type": "display_data"
    },
    {
     "name": "stdout",
     "output_type": "stream",
     "text": [
      "----------------------------------------\n",
      "Value counts for 'release_year':\n"
     ]
    },
    {
     "data": {
      "text/plain": [
       "release_year\n",
       "2018    1147\n",
       "2017    1032\n",
       "2019    1030\n",
       "2020     953\n",
       "2016     902\n",
       "Name: count, dtype: int64"
      ]
     },
     "metadata": {},
     "output_type": "display_data"
    },
    {
     "name": "stdout",
     "output_type": "stream",
     "text": [
      "----------------------------------------\n",
      "Value counts for 'rating':\n"
     ]
    },
    {
     "data": {
      "text/plain": [
       "rating\n",
       "TV-MA    3207\n",
       "TV-14    2160\n",
       "TV-PG     863\n",
       "R         799\n",
       "PG-13     490\n",
       "Name: count, dtype: int64"
      ]
     },
     "metadata": {},
     "output_type": "display_data"
    },
    {
     "name": "stdout",
     "output_type": "stream",
     "text": [
      "----------------------------------------\n",
      "Value counts for 'duration':\n"
     ]
    },
    {
     "data": {
      "text/plain": [
       "duration\n",
       "1 Season     1793\n",
       "2 Seasons     425\n",
       "3 Seasons     199\n",
       "90 min        152\n",
       "97 min        146\n",
       "Name: count, dtype: int64"
      ]
     },
     "metadata": {},
     "output_type": "display_data"
    },
    {
     "name": "stdout",
     "output_type": "stream",
     "text": [
      "----------------------------------------\n",
      "Value counts for 'listed_in':\n"
     ]
    },
    {
     "data": {
      "text/plain": [
       "listed_in\n",
       "Dramas, International Movies                        362\n",
       "Documentaries                                       359\n",
       "Stand-Up Comedy                                     334\n",
       "Comedies, Dramas, International Movies              274\n",
       "Dramas, Independent Movies, International Movies    252\n",
       "Name: count, dtype: int64"
      ]
     },
     "metadata": {},
     "output_type": "display_data"
    },
    {
     "name": "stdout",
     "output_type": "stream",
     "text": [
      "----------------------------------------\n"
     ]
    }
   ],
   "source": [
    "# Display value counts for selected columns in a loop for better understanding of the dataset\n",
    "columns_to_check = [\n",
    "    'type', 'title', 'director', 'cast', 'country',\n",
    "    'date_added', 'release_year', 'rating', 'duration', 'listed_in'\n",
    "]\n",
    "\n",
    "for col in columns_to_check:\n",
    "    print(f\"Value counts for '{col}':\")\n",
    "    display(netflix_data[col].value_counts().head(5))\n",
    "    print('-' * 40)\n",
    "\n",
    "    \n"
   ]
  },
  {
   "cell_type": "markdown",
   "id": "e89c756e",
   "metadata": {},
   "source": [
    "#Dealing with missing data"
   ]
  },
  {
   "cell_type": "markdown",
   "id": "79c40115",
   "metadata": {},
   "source": [
    "\n",
    "\n",
    "\n",
    "\n",
    "\n",
    "\n",
    "\n",
    "\n",
    "\n",
    "\n",
    "\n",
    "\n",
    "\n",
    "\n",
    "\n",
    "\n",
    "\n",
    "\n",
    "# find the max repetition for all , in order to replace the missing data by that , beacause we have a lot of them"
   ]
  },
  {
   "cell_type": "code",
   "execution_count": 167,
   "id": "d893e8ca",
   "metadata": {},
   "outputs": [
    {
     "name": "stdout",
     "output_type": "stream",
     "text": [
      "* # DIRECTOR* # DIRECTOR* # DIRECTOR* # DIRECTOR* # DIRECTOR* # DIRECTOR* # DIRECTOR* # DIRECTOR* # DIRECTOR* # DIRECTOR\n",
      "\n"
     ]
    },
    {
     "data": {
      "text/plain": [
       "director\n",
       "Rajiv Chilaka              19\n",
       "Raúl Campos, Jan Suter     18\n",
       "Marcus Raboy               16\n",
       "Suhas Kadav                16\n",
       "Jay Karas                  14\n",
       "                           ..\n",
       "Mu Chu                      1\n",
       "Chandra Prakash Dwivedi     1\n",
       "Majid Al Ansari             1\n",
       "Peter Hewitt                1\n",
       "Paul Raschid                1\n",
       "Name: count, Length: 4528, dtype: int64"
      ]
     },
     "metadata": {},
     "output_type": "display_data"
    },
    {
     "name": "stdout",
     "output_type": "stream",
     "text": [
      "* # COUNTRY* # COUNTRY* # COUNTRY* # COUNTRY* # COUNTRY* # COUNTRY* # COUNTRY* # COUNTRY* # COUNTRY* # COUNTRY\n",
      "\n"
     ]
    },
    {
     "data": {
      "text/plain": [
       "country\n",
       "United States                                    2818\n",
       "India                                             972\n",
       "United Kingdom                                    419\n",
       "Japan                                             245\n",
       "South Korea                                       199\n",
       "                                                 ... \n",
       "Russia, Spain                                       1\n",
       "Croatia, Slovenia, Serbia, Montenegro               1\n",
       "Japan, Canada                                       1\n",
       "United States, France, South Korea, Indonesia       1\n",
       "United Arab Emirates, Jordan                        1\n",
       "Name: count, Length: 748, dtype: int64"
      ]
     },
     "metadata": {},
     "output_type": "display_data"
    },
    {
     "name": "stdout",
     "output_type": "stream",
     "text": [
      "* # CAST* # CAST* # CAST* # CAST* # CAST* # CAST* # CAST* # CAST* # CAST* # CAST* # CAST* # CAST* # CAST* # CAST* # CAST* # CAST* # CAST* # CAST* # CAST* # CAST* # CAST* # CAST* # CAST* # CAST* # CAST* # CAST* # CAST* # CAST* # CAST* # CAST* # CAST* # CAST* # CAST* # CAST* # CAST* # CAST* # CAST* # CAST* # CAST* # CAST* # CAST* # CAST* # CAST* # CAST* # CAST* # CAST* # CAST* # CAST* # CAST* # CAST* # CAST* # CAST* # CAST* # CAST* # CAST* # CAST* # CAST* # CAST* # CAST* # CAST* # CAST* # CAST* # CAST* # CAST* # CAST* # CAST* # CAST* # CAST* # CAST* # CAST* # CAST* # CAST* # CAST* # CAST* # CAST* # CAST* # CAST* # CAST* # CAST* # CAST* # CAST* # CAST* # CAST* # CAST* # CAST* # CAST* # CAST* # CAST* # CAST* # CAST* # CAST* # CAST* # CAST* # CAST* # CAST* # CAST* # CAST* # CAST* # CAST* # CAST\n",
      "\n"
     ]
    },
    {
     "data": {
      "text/plain": [
       "cast\n",
       "David Attenborough                                                                                                                                             19\n",
       "Vatsal Dubey, Julie Tejwani, Rupa Bhimani, Jigna Bhardwaj, Rajesh Kava, Mousam, Swapnil                                                                        14\n",
       "Samuel West                                                                                                                                                    10\n",
       "Jeff Dunham                                                                                                                                                     7\n",
       "Michela Luci, Jamie Watson, Eric Peterson, Anna Claire Bartlam, Nicolas Aqui, Cory Doran, Julie Lemieux, Derek McGrath                                          6\n",
       "                                                                                                                                                               ..\n",
       "Ali Suliman, Saleh Bakri, Yasa, Ali Al-Jabri, Mansoor Alfeeli, Ahd                                                                                              1\n",
       "Mark Ruffalo, Jake Gyllenhaal, Robert Downey Jr., Anthony Edwards, Brian Cox, Elias Koteas, Donal Logue, John Carroll Lynch, Dermot Mulroney, Chloë Sevigny     1\n",
       "Jesse Eisenberg, Woody Harrelson, Emma Stone, Abigail Breslin, Amber Heard, Bill Murray, Derek Graf                                                             1\n",
       "Tim Allen, Courteney Cox, Chevy Chase, Kate Mara, Ryan Newman, Michael Cassidy, Spencer Breslin, Rip Torn, Kevin Zegers                                         1\n",
       "Logan Browning, Brandon P. Bell, DeRon Horton, Antoinette Robertson, John Patrick Amedori, Ashley Blaine Featherson, Marque Richardson, Giancarlo Esposito      1\n",
       "Name: count, Length: 7692, dtype: int64"
      ]
     },
     "metadata": {},
     "output_type": "display_data"
    },
    {
     "name": "stdout",
     "output_type": "stream",
     "text": [
      "* # DATE_ADDED* # DATE_ADDED* # DATE_ADDED* # DATE_ADDED* # DATE_ADDED* # DATE_ADDED* # DATE_ADDED* # DATE_ADDED* # DATE_ADDED* # DATE_ADDED\n",
      "\n"
     ]
    },
    {
     "data": {
      "text/plain": [
       "date_added\n",
       "January 1, 2020      109\n",
       "November 1, 2019      89\n",
       "March 1, 2018         75\n",
       "December 31, 2019     74\n",
       "October 1, 2018       71\n",
       "                    ... \n",
       "June 15, 2014          1\n",
       "November 18, 2017      1\n",
       "February 8, 2016       1\n",
       "October 21, 2018       1\n",
       " June 1, 2018          1\n",
       "Name: count, Length: 1767, dtype: int64"
      ]
     },
     "metadata": {},
     "output_type": "display_data"
    },
    {
     "name": "stdout",
     "output_type": "stream",
     "text": [
      "* # DURATION* # DURATION* # DURATION* # DURATION* # DURATION* # DURATION* # DURATION* # DURATION* # DURATION* # DURATION* # DURATION* # DURATION* # DURATION* # DURATION* # DURATION* # DURATION* # DURATION* # DURATION* # DURATION* # DURATION* # DURATION* # DURATION* # DURATION* # DURATION* # DURATION* # DURATION* # DURATION* # DURATION* # DURATION* # DURATION* # DURATION* # DURATION* # DURATION* # DURATION* # DURATION* # DURATION* # DURATION* # DURATION* # DURATION* # DURATION* # DURATION* # DURATION* # DURATION* # DURATION* # DURATION* # DURATION* # DURATION* # DURATION* # DURATION* # DURATION* # DURATION* # DURATION* # DURATION* # DURATION* # DURATION* # DURATION* # DURATION* # DURATION* # DURATION* # DURATION* # DURATION* # DURATION* # DURATION* # DURATION* # DURATION* # DURATION* # DURATION* # DURATION* # DURATION* # DURATION* # DURATION* # DURATION* # DURATION* # DURATION* # DURATION* # DURATION* # DURATION* # DURATION* # DURATION* # DURATION* # DURATION* # DURATION* # DURATION* # DURATION* # DURATION* # DURATION* # DURATION* # DURATION* # DURATION* # DURATION* # DURATION* # DURATION* # DURATION* # DURATION* # DURATION* # DURATION* # DURATION* # DURATION* # DURATION* # DURATION\n",
      "\n"
     ]
    },
    {
     "data": {
      "text/plain": [
       "duration\n",
       "1 Season     1793\n",
       "2 Seasons     425\n",
       "3 Seasons     199\n",
       "90 min        152\n",
       "97 min        146\n",
       "             ... \n",
       "228 min         1\n",
       "18 min          1\n",
       "205 min         1\n",
       "201 min         1\n",
       "191 min         1\n",
       "Name: count, Length: 220, dtype: int64"
      ]
     },
     "metadata": {},
     "output_type": "display_data"
    },
    {
     "name": "stdout",
     "output_type": "stream",
     "text": [
      "* * * * * * * * * * * * * * * * * * * * * * * * * * * * * * * * * * * * * * * * * * * * * * * * * * * * * * * * * * * * * * * * * * * * * * * * * * * * * * * * * * * * * * * * * * * * * * * * * * * * \n",
      "\n"
     ]
    }
   ],
   "source": [
    "print('* # DIRECTOR'*10,end=\"\\n\\n\")\n",
    "display(netflix_data[\"director\"].value_counts(ascending=False))\n",
    "\n",
    "print('* # COUNTRY'*10,end=\"\\n\\n\")\n",
    "\n",
    "display(netflix_data['country'].value_counts(ascending=False))\n",
    "print('* # CAST'*100,end=\"\\n\\n\")\n",
    "\n",
    "display(netflix_data['cast'].value_counts(ascending=False))\n",
    "print('* # DATE_ADDED'*10,end=\"\\n\\n\")\n",
    "\n",
    "display(netflix_data[\"date_added\"].value_counts(ascending=False))\n",
    "print('* # DURATION'*100,end=\"\\n\\n\")\n",
    "display(netflix_data['duration'].value_counts(ascending=False))\n",
    "print('* '*100,end=\"\\n\\n\")\n",
    "\n"
   ]
  },
  {
   "cell_type": "code",
   "execution_count": 163,
   "id": "9e8ed9e7",
   "metadata": {},
   "outputs": [
    {
     "data": {
      "text/html": [
       "<div>\n",
       "<style scoped>\n",
       "    .dataframe tbody tr th:only-of-type {\n",
       "        vertical-align: middle;\n",
       "    }\n",
       "\n",
       "    .dataframe tbody tr th {\n",
       "        vertical-align: top;\n",
       "    }\n",
       "\n",
       "    .dataframe thead th {\n",
       "        text-align: right;\n",
       "    }\n",
       "</style>\n",
       "<table border=\"1\" class=\"dataframe\">\n",
       "  <thead>\n",
       "    <tr style=\"text-align: right;\">\n",
       "      <th></th>\n",
       "      <th>show_id</th>\n",
       "      <th>type</th>\n",
       "      <th>title</th>\n",
       "      <th>director</th>\n",
       "      <th>cast</th>\n",
       "      <th>country</th>\n",
       "      <th>date_added</th>\n",
       "      <th>release_year</th>\n",
       "      <th>rating</th>\n",
       "      <th>duration</th>\n",
       "      <th>listed_in</th>\n",
       "      <th>description</th>\n",
       "    </tr>\n",
       "  </thead>\n",
       "  <tbody>\n",
       "    <tr>\n",
       "      <th>0</th>\n",
       "      <td>s1</td>\n",
       "      <td>Movie</td>\n",
       "      <td>Dick Johnson Is Dead</td>\n",
       "      <td>Kirsten Johnson</td>\n",
       "      <td>NaN</td>\n",
       "      <td>United States</td>\n",
       "      <td>September 25, 2021</td>\n",
       "      <td>2020</td>\n",
       "      <td>PG-13</td>\n",
       "      <td>90 min</td>\n",
       "      <td>Documentaries</td>\n",
       "      <td>As her father nears the end of his life, filmm...</td>\n",
       "    </tr>\n",
       "  </tbody>\n",
       "</table>\n",
       "</div>"
      ],
      "text/plain": [
       "  show_id   type                 title         director cast        country  \\\n",
       "0      s1  Movie  Dick Johnson Is Dead  Kirsten Johnson  NaN  United States   \n",
       "\n",
       "           date_added  release_year rating duration      listed_in  \\\n",
       "0  September 25, 2021          2020  PG-13   90 min  Documentaries   \n",
       "\n",
       "                                         description  \n",
       "0  As her father nears the end of his life, filmm...  "
      ]
     },
     "execution_count": 163,
     "metadata": {},
     "output_type": "execute_result"
    }
   ],
   "source": [
    "# creation of a copy of netflix_data\n",
    "\n",
    "netflix_data_copy=netflix_data.copy()\n",
    "netflix_data_copy.head(1)"
   ]
  },
  {
   "cell_type": "code",
   "execution_count": null,
   "id": "463e09d8",
   "metadata": {},
   "outputs": [
    {
     "name": "stdout",
     "output_type": "stream",
     "text": [
      "<class 'pandas.core.frame.DataFrame'>\n",
      "Index: 8803 entries, 0 to 8806\n",
      "Data columns (total 12 columns):\n",
      " #   Column        Non-Null Count  Dtype \n",
      "---  ------        --------------  ----- \n",
      " 0   show_id       8803 non-null   object\n",
      " 1   type          8803 non-null   object\n",
      " 2   title         8803 non-null   object\n",
      " 3   director      8803 non-null   object\n",
      " 4   cast          8803 non-null   object\n",
      " 5   country       8803 non-null   object\n",
      " 6   date_added    8803 non-null   object\n",
      " 7   release_year  8803 non-null   int64 \n",
      " 8   rating        8803 non-null   object\n",
      " 9   duration      8803 non-null   object\n",
      " 10  listed_in     8803 non-null   object\n",
      " 11  description   8803 non-null   object\n",
      "dtypes: int64(1), object(11)\n",
      "memory usage: 894.1+ KB\n"
     ]
    },
    {
     "name": "stderr",
     "output_type": "stream",
     "text": [
      "C:\\Users\\pc\\AppData\\Local\\Temp\\ipykernel_8808\\2068909611.py:1: FutureWarning: A value is trying to be set on a copy of a DataFrame or Series through chained assignment using an inplace method.\n",
      "The behavior will change in pandas 3.0. This inplace method will never work because the intermediate object on which we are setting values always behaves as a copy.\n",
      "\n",
      "For example, when doing 'df[col].method(value, inplace=True)', try using 'df.method({col: value}, inplace=True)' or df[col] = df[col].method(value) instead, to perform the operation inplace on the original object.\n",
      "\n",
      "\n",
      "  netflix_data_copy[\"director\"].fillna('Rajiv Chilaka',inplace=True)\n",
      "C:\\Users\\pc\\AppData\\Local\\Temp\\ipykernel_8808\\2068909611.py:2: FutureWarning: A value is trying to be set on a copy of a DataFrame or Series through chained assignment using an inplace method.\n",
      "The behavior will change in pandas 3.0. This inplace method will never work because the intermediate object on which we are setting values always behaves as a copy.\n",
      "\n",
      "For example, when doing 'df[col].method(value, inplace=True)', try using 'df.method({col: value}, inplace=True)' or df[col] = df[col].method(value) instead, to perform the operation inplace on the original object.\n",
      "\n",
      "\n",
      "  netflix_data_copy[\"country\"].fillna(\"United States\",inplace=True)\n",
      "C:\\Users\\pc\\AppData\\Local\\Temp\\ipykernel_8808\\2068909611.py:3: FutureWarning: A value is trying to be set on a copy of a DataFrame or Series through chained assignment using an inplace method.\n",
      "The behavior will change in pandas 3.0. This inplace method will never work because the intermediate object on which we are setting values always behaves as a copy.\n",
      "\n",
      "For example, when doing 'df[col].method(value, inplace=True)', try using 'df.method({col: value}, inplace=True)' or df[col] = df[col].method(value) instead, to perform the operation inplace on the original object.\n",
      "\n",
      "\n",
      "  netflix_data_copy[\"cast\"].fillna('David Attenborough',inplace=True)\n",
      "C:\\Users\\pc\\AppData\\Local\\Temp\\ipykernel_8808\\2068909611.py:4: FutureWarning: A value is trying to be set on a copy of a DataFrame or Series through chained assignment using an inplace method.\n",
      "The behavior will change in pandas 3.0. This inplace method will never work because the intermediate object on which we are setting values always behaves as a copy.\n",
      "\n",
      "For example, when doing 'df[col].method(value, inplace=True)', try using 'df.method({col: value}, inplace=True)' or df[col] = df[col].method(value) instead, to perform the operation inplace on the original object.\n",
      "\n",
      "\n",
      "  netflix_data_copy[\"date_added\"].fillna(\"January 1, 2020\",inplace=True)\n",
      "C:\\Users\\pc\\AppData\\Local\\Temp\\ipykernel_8808\\2068909611.py:5: FutureWarning: A value is trying to be set on a copy of a DataFrame or Series through chained assignment using an inplace method.\n",
      "The behavior will change in pandas 3.0. This inplace method will never work because the intermediate object on which we are setting values always behaves as a copy.\n",
      "\n",
      "For example, when doing 'df[col].method(value, inplace=True)', try using 'df.method({col: value}, inplace=True)' or df[col] = df[col].method(value) instead, to perform the operation inplace on the original object.\n",
      "\n",
      "\n",
      "  netflix_data_copy[\"duration\"].fillna(\"1 Season\",inplace=True)\n"
     ]
    }
   ],
   "source": [
    "netflix_data_copy[\"director\"].fillna('Rajiv Chilaka',inplace=True)\n",
    "netflix_data_copy[\"country\"].fillna(\"United States\",inplace=True)\n",
    "netflix_data_copy[\"cast\"].fillna('David Attenborough',inplace=True)\n",
    "netflix_data_copy[\"date_added\"].fillna(\"January 1, 2020\",inplace=True)\n",
    "netflix_data_copy[\"duration\"].fillna(\"1 Season\",inplace=True)\n",
    "netflix_data_copy.dropna(inplace=True)\n",
    "\n",
    "netflix_data_copy.info() # we don't have missing values anymore"
   ]
  },
  {
   "cell_type": "markdown",
   "id": "78017edd",
   "metadata": {},
   "source": [
    "\n",
    "\n",
    "\n",
    "\n",
    "\n",
    "# the dupplicated values"
   ]
  },
  {
   "cell_type": "code",
   "execution_count": 162,
   "id": "a41064d9",
   "metadata": {},
   "outputs": [
    {
     "data": {
      "text/plain": [
       "np.int64(0)"
      ]
     },
     "execution_count": 162,
     "metadata": {},
     "output_type": "execute_result"
    }
   ],
   "source": [
    "netflix_data_copy.duplicated().sum() # No dupplicated values"
   ]
  },
  {
   "cell_type": "markdown",
   "id": "7aac6407",
   "metadata": {},
   "source": [
    "# Now we will dealing with outlier data"
   ]
  }
 ],
 "metadata": {
  "kernelspec": {
   "display_name": "venv",
   "language": "python",
   "name": "python3"
  },
  "language_info": {
   "codemirror_mode": {
    "name": "ipython",
    "version": 3
   },
   "file_extension": ".py",
   "mimetype": "text/x-python",
   "name": "python",
   "nbconvert_exporter": "python",
   "pygments_lexer": "ipython3",
   "version": "3.13.5"
  }
 },
 "nbformat": 4,
 "nbformat_minor": 5
}
